{
 "cells": [
  {
   "cell_type": "markdown",
   "metadata": {},
   "source": [
    "source: https://github.com/NeuralNine/neuralintents/tree/master"
   ]
  },
  {
   "cell_type": "code",
   "execution_count": 4,
   "metadata": {},
   "outputs": [
    {
     "name": "stderr",
     "output_type": "stream",
     "text": [
      "Some weights of the model checkpoint at facebook/mms-tts-mon were not used when initializing VitsModel: ['flow.flows.3.wavenet.in_layers.3.weight_g', 'flow.flows.0.wavenet.in_layers.2.weight_v', 'flow.flows.1.wavenet.in_layers.1.weight_g', 'posterior_encoder.wavenet.in_layers.8.weight_v', 'posterior_encoder.wavenet.res_skip_layers.3.weight_g', 'posterior_encoder.wavenet.res_skip_layers.13.weight_g', 'posterior_encoder.wavenet.res_skip_layers.5.weight_v', 'posterior_encoder.wavenet.res_skip_layers.9.weight_g', 'posterior_encoder.wavenet.res_skip_layers.12.weight_g', 'flow.flows.0.wavenet.res_skip_layers.3.weight_g', 'flow.flows.0.wavenet.res_skip_layers.1.weight_g', 'flow.flows.3.wavenet.in_layers.2.weight_v', 'flow.flows.1.wavenet.res_skip_layers.1.weight_g', 'flow.flows.0.wavenet.in_layers.3.weight_v', 'flow.flows.1.wavenet.in_layers.3.weight_v', 'flow.flows.0.wavenet.in_layers.0.weight_g', 'flow.flows.1.wavenet.res_skip_layers.3.weight_v', 'posterior_encoder.wavenet.res_skip_layers.0.weight_g', 'posterior_encoder.wavenet.in_layers.13.weight_v', 'flow.flows.3.wavenet.res_skip_layers.3.weight_g', 'posterior_encoder.wavenet.in_layers.7.weight_v', 'posterior_encoder.wavenet.res_skip_layers.7.weight_v', 'posterior_encoder.wavenet.res_skip_layers.4.weight_v', 'posterior_encoder.wavenet.in_layers.7.weight_g', 'posterior_encoder.wavenet.in_layers.4.weight_g', 'flow.flows.1.wavenet.res_skip_layers.0.weight_v', 'flow.flows.3.wavenet.res_skip_layers.2.weight_v', 'flow.flows.1.wavenet.in_layers.2.weight_v', 'flow.flows.0.wavenet.res_skip_layers.0.weight_g', 'posterior_encoder.wavenet.res_skip_layers.8.weight_g', 'flow.flows.3.wavenet.in_layers.1.weight_v', 'posterior_encoder.wavenet.in_layers.6.weight_v', 'flow.flows.0.wavenet.res_skip_layers.2.weight_v', 'flow.flows.3.wavenet.res_skip_layers.3.weight_v', 'posterior_encoder.wavenet.res_skip_layers.4.weight_g', 'posterior_encoder.wavenet.in_layers.14.weight_g', 'posterior_encoder.wavenet.in_layers.15.weight_v', 'flow.flows.3.wavenet.in_layers.3.weight_v', 'posterior_encoder.wavenet.in_layers.10.weight_g', 'posterior_encoder.wavenet.in_layers.5.weight_g', 'posterior_encoder.wavenet.res_skip_layers.11.weight_g', 'posterior_encoder.wavenet.res_skip_layers.3.weight_v', 'posterior_encoder.wavenet.res_skip_layers.9.weight_v', 'flow.flows.0.wavenet.in_layers.1.weight_v', 'flow.flows.2.wavenet.res_skip_layers.0.weight_v', 'flow.flows.2.wavenet.in_layers.3.weight_v', 'flow.flows.2.wavenet.res_skip_layers.2.weight_g', 'posterior_encoder.wavenet.res_skip_layers.14.weight_v', 'posterior_encoder.wavenet.res_skip_layers.2.weight_v', 'flow.flows.3.wavenet.in_layers.2.weight_g', 'posterior_encoder.wavenet.in_layers.2.weight_g', 'flow.flows.2.wavenet.in_layers.0.weight_g', 'flow.flows.2.wavenet.in_layers.3.weight_g', 'posterior_encoder.wavenet.in_layers.3.weight_g', 'posterior_encoder.wavenet.in_layers.1.weight_g', 'posterior_encoder.wavenet.in_layers.9.weight_v', 'posterior_encoder.wavenet.in_layers.6.weight_g', 'posterior_encoder.wavenet.res_skip_layers.6.weight_g', 'posterior_encoder.wavenet.in_layers.5.weight_v', 'posterior_encoder.wavenet.in_layers.13.weight_g', 'posterior_encoder.wavenet.in_layers.12.weight_v', 'posterior_encoder.wavenet.res_skip_layers.2.weight_g', 'flow.flows.1.wavenet.in_layers.0.weight_g', 'flow.flows.2.wavenet.in_layers.2.weight_g', 'flow.flows.2.wavenet.res_skip_layers.1.weight_g', 'flow.flows.1.wavenet.in_layers.3.weight_g', 'posterior_encoder.wavenet.in_layers.3.weight_v', 'flow.flows.0.wavenet.res_skip_layers.1.weight_v', 'flow.flows.0.wavenet.in_layers.1.weight_g', 'flow.flows.0.wavenet.res_skip_layers.0.weight_v', 'posterior_encoder.wavenet.res_skip_layers.15.weight_g', 'flow.flows.2.wavenet.in_layers.1.weight_g', 'posterior_encoder.wavenet.in_layers.0.weight_g', 'flow.flows.2.wavenet.res_skip_layers.1.weight_v', 'posterior_encoder.wavenet.res_skip_layers.8.weight_v', 'flow.flows.2.wavenet.in_layers.0.weight_v', 'flow.flows.2.wavenet.res_skip_layers.2.weight_v', 'flow.flows.0.wavenet.in_layers.3.weight_g', 'posterior_encoder.wavenet.res_skip_layers.14.weight_g', 'flow.flows.2.wavenet.in_layers.1.weight_v', 'posterior_encoder.wavenet.in_layers.9.weight_g', 'posterior_encoder.wavenet.res_skip_layers.15.weight_v', 'flow.flows.2.wavenet.res_skip_layers.3.weight_v', 'posterior_encoder.wavenet.res_skip_layers.0.weight_v', 'flow.flows.3.wavenet.in_layers.1.weight_g', 'posterior_encoder.wavenet.in_layers.11.weight_g', 'posterior_encoder.wavenet.in_layers.11.weight_v', 'flow.flows.1.wavenet.res_skip_layers.2.weight_g', 'posterior_encoder.wavenet.in_layers.4.weight_v', 'flow.flows.0.wavenet.in_layers.0.weight_v', 'posterior_encoder.wavenet.res_skip_layers.12.weight_v', 'flow.flows.3.wavenet.res_skip_layers.1.weight_v', 'posterior_encoder.wavenet.in_layers.1.weight_v', 'flow.flows.2.wavenet.res_skip_layers.0.weight_g', 'posterior_encoder.wavenet.in_layers.10.weight_v', 'posterior_encoder.wavenet.res_skip_layers.6.weight_v', 'flow.flows.1.wavenet.in_layers.0.weight_v', 'flow.flows.0.wavenet.in_layers.2.weight_g', 'posterior_encoder.wavenet.res_skip_layers.10.weight_v', 'posterior_encoder.wavenet.in_layers.12.weight_g', 'posterior_encoder.wavenet.res_skip_layers.11.weight_v', 'flow.flows.1.wavenet.in_layers.2.weight_g', 'posterior_encoder.wavenet.in_layers.2.weight_v', 'posterior_encoder.wavenet.in_layers.0.weight_v', 'flow.flows.3.wavenet.res_skip_layers.2.weight_g', 'flow.flows.0.wavenet.res_skip_layers.3.weight_v', 'flow.flows.1.wavenet.res_skip_layers.1.weight_v', 'posterior_encoder.wavenet.res_skip_layers.13.weight_v', 'flow.flows.1.wavenet.res_skip_layers.2.weight_v', 'flow.flows.2.wavenet.res_skip_layers.3.weight_g', 'flow.flows.0.wavenet.res_skip_layers.2.weight_g', 'flow.flows.1.wavenet.res_skip_layers.0.weight_g', 'posterior_encoder.wavenet.in_layers.14.weight_v', 'posterior_encoder.wavenet.res_skip_layers.10.weight_g', 'posterior_encoder.wavenet.res_skip_layers.1.weight_g', 'posterior_encoder.wavenet.res_skip_layers.1.weight_v', 'flow.flows.3.wavenet.in_layers.0.weight_g', 'flow.flows.3.wavenet.res_skip_layers.1.weight_g', 'flow.flows.1.wavenet.in_layers.1.weight_v', 'flow.flows.3.wavenet.in_layers.0.weight_v', 'posterior_encoder.wavenet.in_layers.8.weight_g', 'flow.flows.1.wavenet.res_skip_layers.3.weight_g', 'posterior_encoder.wavenet.in_layers.15.weight_g', 'posterior_encoder.wavenet.res_skip_layers.7.weight_g', 'flow.flows.3.wavenet.res_skip_layers.0.weight_g', 'flow.flows.2.wavenet.in_layers.2.weight_v', 'posterior_encoder.wavenet.res_skip_layers.5.weight_g', 'flow.flows.3.wavenet.res_skip_layers.0.weight_v']\n",
      "- This IS expected if you are initializing VitsModel from the checkpoint of a model trained on another task or with another architecture (e.g. initializing a BertForSequenceClassification model from a BertForPreTraining model).\n",
      "- This IS NOT expected if you are initializing VitsModel from the checkpoint of a model that you expect to be exactly identical (initializing a BertForSequenceClassification model from a BertForSequenceClassification model).\n",
      "Some weights of VitsModel were not initialized from the model checkpoint at facebook/mms-tts-mon and are newly initialized: ['posterior_encoder.wavenet.res_skip_layers.13.parametrizations.weight.original0', 'posterior_encoder.wavenet.res_skip_layers.8.parametrizations.weight.original0', 'posterior_encoder.wavenet.in_layers.6.parametrizations.weight.original1', 'posterior_encoder.wavenet.in_layers.12.parametrizations.weight.original1', 'posterior_encoder.wavenet.res_skip_layers.2.parametrizations.weight.original1', 'flow.flows.1.wavenet.in_layers.1.parametrizations.weight.original1', 'posterior_encoder.wavenet.in_layers.4.parametrizations.weight.original0', 'posterior_encoder.wavenet.res_skip_layers.4.parametrizations.weight.original1', 'posterior_encoder.wavenet.in_layers.8.parametrizations.weight.original1', 'posterior_encoder.wavenet.res_skip_layers.10.parametrizations.weight.original1', 'posterior_encoder.wavenet.res_skip_layers.7.parametrizations.weight.original0', 'flow.flows.1.wavenet.res_skip_layers.2.parametrizations.weight.original1', 'posterior_encoder.wavenet.in_layers.3.parametrizations.weight.original0', 'flow.flows.1.wavenet.in_layers.0.parametrizations.weight.original0', 'posterior_encoder.wavenet.in_layers.10.parametrizations.weight.original0', 'flow.flows.0.wavenet.in_layers.0.parametrizations.weight.original0', 'flow.flows.3.wavenet.in_layers.0.parametrizations.weight.original0', 'flow.flows.1.wavenet.res_skip_layers.1.parametrizations.weight.original0', 'flow.flows.3.wavenet.in_layers.0.parametrizations.weight.original1', 'posterior_encoder.wavenet.in_layers.13.parametrizations.weight.original1', 'flow.flows.0.wavenet.res_skip_layers.1.parametrizations.weight.original0', 'flow.flows.1.wavenet.res_skip_layers.1.parametrizations.weight.original1', 'flow.flows.2.wavenet.in_layers.3.parametrizations.weight.original1', 'flow.flows.0.wavenet.in_layers.0.parametrizations.weight.original1', 'flow.flows.3.wavenet.in_layers.1.parametrizations.weight.original0', 'flow.flows.1.wavenet.in_layers.0.parametrizations.weight.original1', 'flow.flows.2.wavenet.in_layers.0.parametrizations.weight.original0', 'posterior_encoder.wavenet.res_skip_layers.15.parametrizations.weight.original0', 'flow.flows.2.wavenet.in_layers.1.parametrizations.weight.original1', 'flow.flows.0.wavenet.in_layers.3.parametrizations.weight.original1', 'posterior_encoder.wavenet.res_skip_layers.9.parametrizations.weight.original0', 'flow.flows.3.wavenet.in_layers.3.parametrizations.weight.original0', 'flow.flows.2.wavenet.res_skip_layers.1.parametrizations.weight.original0', 'posterior_encoder.wavenet.res_skip_layers.13.parametrizations.weight.original1', 'posterior_encoder.wavenet.res_skip_layers.0.parametrizations.weight.original1', 'flow.flows.2.wavenet.in_layers.2.parametrizations.weight.original0', 'flow.flows.2.wavenet.in_layers.3.parametrizations.weight.original0', 'posterior_encoder.wavenet.res_skip_layers.11.parametrizations.weight.original0', 'flow.flows.2.wavenet.res_skip_layers.2.parametrizations.weight.original0', 'flow.flows.3.wavenet.res_skip_layers.2.parametrizations.weight.original0', 'flow.flows.3.wavenet.in_layers.2.parametrizations.weight.original1', 'flow.flows.1.wavenet.res_skip_layers.3.parametrizations.weight.original0', 'flow.flows.0.wavenet.res_skip_layers.3.parametrizations.weight.original0', 'posterior_encoder.wavenet.in_layers.7.parametrizations.weight.original0', 'flow.flows.2.wavenet.res_skip_layers.2.parametrizations.weight.original1', 'posterior_encoder.wavenet.in_layers.15.parametrizations.weight.original0', 'flow.flows.1.wavenet.in_layers.1.parametrizations.weight.original0', 'posterior_encoder.wavenet.in_layers.10.parametrizations.weight.original1', 'posterior_encoder.wavenet.res_skip_layers.8.parametrizations.weight.original1', 'posterior_encoder.wavenet.res_skip_layers.5.parametrizations.weight.original1', 'posterior_encoder.wavenet.in_layers.9.parametrizations.weight.original0', 'flow.flows.1.wavenet.res_skip_layers.0.parametrizations.weight.original0', 'posterior_encoder.wavenet.in_layers.9.parametrizations.weight.original1', 'posterior_encoder.wavenet.in_layers.0.parametrizations.weight.original1', 'flow.flows.1.wavenet.in_layers.3.parametrizations.weight.original0', 'flow.flows.0.wavenet.res_skip_layers.0.parametrizations.weight.original0', 'flow.flows.0.wavenet.in_layers.2.parametrizations.weight.original0', 'posterior_encoder.wavenet.in_layers.6.parametrizations.weight.original0', 'flow.flows.1.wavenet.in_layers.2.parametrizations.weight.original1', 'posterior_encoder.wavenet.res_skip_layers.1.parametrizations.weight.original0', 'posterior_encoder.wavenet.res_skip_layers.6.parametrizations.weight.original1', 'flow.flows.2.wavenet.res_skip_layers.3.parametrizations.weight.original1', 'posterior_encoder.wavenet.res_skip_layers.6.parametrizations.weight.original0', 'posterior_encoder.wavenet.res_skip_layers.12.parametrizations.weight.original0', 'flow.flows.3.wavenet.res_skip_layers.3.parametrizations.weight.original0', 'flow.flows.3.wavenet.in_layers.3.parametrizations.weight.original1', 'posterior_encoder.wavenet.res_skip_layers.9.parametrizations.weight.original1', 'flow.flows.2.wavenet.in_layers.1.parametrizations.weight.original0', 'flow.flows.0.wavenet.res_skip_layers.2.parametrizations.weight.original0', 'flow.flows.3.wavenet.in_layers.2.parametrizations.weight.original0', 'posterior_encoder.wavenet.in_layers.13.parametrizations.weight.original0', 'flow.flows.0.wavenet.res_skip_layers.0.parametrizations.weight.original1', 'flow.flows.3.wavenet.res_skip_layers.0.parametrizations.weight.original0', 'posterior_encoder.wavenet.in_layers.5.parametrizations.weight.original0', 'posterior_encoder.wavenet.res_skip_layers.14.parametrizations.weight.original0', 'posterior_encoder.wavenet.in_layers.14.parametrizations.weight.original0', 'flow.flows.1.wavenet.res_skip_layers.0.parametrizations.weight.original1', 'flow.flows.1.wavenet.res_skip_layers.3.parametrizations.weight.original1', 'posterior_encoder.wavenet.res_skip_layers.2.parametrizations.weight.original0', 'flow.flows.1.wavenet.in_layers.2.parametrizations.weight.original0', 'flow.flows.0.wavenet.res_skip_layers.1.parametrizations.weight.original1', 'posterior_encoder.wavenet.in_layers.1.parametrizations.weight.original0', 'flow.flows.3.wavenet.res_skip_layers.0.parametrizations.weight.original1', 'flow.flows.2.wavenet.res_skip_layers.1.parametrizations.weight.original1', 'flow.flows.0.wavenet.in_layers.2.parametrizations.weight.original1', 'flow.flows.2.wavenet.in_layers.2.parametrizations.weight.original1', 'posterior_encoder.wavenet.res_skip_layers.0.parametrizations.weight.original0', 'posterior_encoder.wavenet.res_skip_layers.5.parametrizations.weight.original0', 'posterior_encoder.wavenet.in_layers.11.parametrizations.weight.original1', 'posterior_encoder.wavenet.in_layers.2.parametrizations.weight.original0', 'flow.flows.0.wavenet.res_skip_layers.2.parametrizations.weight.original1', 'posterior_encoder.wavenet.in_layers.11.parametrizations.weight.original0', 'posterior_encoder.wavenet.res_skip_layers.7.parametrizations.weight.original1', 'flow.flows.1.wavenet.res_skip_layers.2.parametrizations.weight.original0', 'posterior_encoder.wavenet.in_layers.7.parametrizations.weight.original1', 'flow.flows.0.wavenet.in_layers.3.parametrizations.weight.original0', 'flow.flows.3.wavenet.res_skip_layers.2.parametrizations.weight.original1', 'flow.flows.3.wavenet.res_skip_layers.3.parametrizations.weight.original1', 'flow.flows.3.wavenet.res_skip_layers.1.parametrizations.weight.original0', 'posterior_encoder.wavenet.res_skip_layers.15.parametrizations.weight.original1', 'flow.flows.2.wavenet.res_skip_layers.0.parametrizations.weight.original1', 'flow.flows.2.wavenet.in_layers.0.parametrizations.weight.original1', 'flow.flows.0.wavenet.res_skip_layers.3.parametrizations.weight.original1', 'posterior_encoder.wavenet.res_skip_layers.12.parametrizations.weight.original1', 'flow.flows.0.wavenet.in_layers.1.parametrizations.weight.original0', 'posterior_encoder.wavenet.res_skip_layers.3.parametrizations.weight.original0', 'posterior_encoder.wavenet.res_skip_layers.10.parametrizations.weight.original0', 'posterior_encoder.wavenet.res_skip_layers.4.parametrizations.weight.original0', 'posterior_encoder.wavenet.res_skip_layers.14.parametrizations.weight.original1', 'flow.flows.2.wavenet.res_skip_layers.3.parametrizations.weight.original0', 'posterior_encoder.wavenet.in_layers.3.parametrizations.weight.original1', 'flow.flows.3.wavenet.in_layers.1.parametrizations.weight.original1', 'posterior_encoder.wavenet.in_layers.14.parametrizations.weight.original1', 'posterior_encoder.wavenet.in_layers.2.parametrizations.weight.original1', 'posterior_encoder.wavenet.in_layers.5.parametrizations.weight.original1', 'flow.flows.2.wavenet.res_skip_layers.0.parametrizations.weight.original0', 'flow.flows.1.wavenet.in_layers.3.parametrizations.weight.original1', 'posterior_encoder.wavenet.res_skip_layers.11.parametrizations.weight.original1', 'posterior_encoder.wavenet.in_layers.4.parametrizations.weight.original1', 'posterior_encoder.wavenet.in_layers.12.parametrizations.weight.original0', 'flow.flows.3.wavenet.res_skip_layers.1.parametrizations.weight.original1', 'posterior_encoder.wavenet.in_layers.15.parametrizations.weight.original1', 'posterior_encoder.wavenet.res_skip_layers.3.parametrizations.weight.original1', 'posterior_encoder.wavenet.in_layers.0.parametrizations.weight.original0', 'flow.flows.0.wavenet.in_layers.1.parametrizations.weight.original1', 'posterior_encoder.wavenet.res_skip_layers.1.parametrizations.weight.original1', 'posterior_encoder.wavenet.in_layers.1.parametrizations.weight.original1', 'posterior_encoder.wavenet.in_layers.8.parametrizations.weight.original0']\n",
      "You should probably TRAIN this model on a down-stream task to be able to use it for predictions and inference.\n"
     ]
    }
   ],
   "source": [
    "import sys\n",
    "import threading\n",
    "import tkinter as tk\n",
    "from neuralintents import BasicAssistant\n",
    "\n",
    "#STT\n",
    "import torch\n",
    "import sounddevice as sd\n",
    "import IPython.display as ipd\n",
    "stt_model_tiny = torch.load('D:/This_season/Tusul/editing_projects/whisper-mongolia/model/whisper-tiny-mn-9.pt')\n",
    "stt_model_small = torch.load('D:/This_season/Tusul/editing_projects/whisper-mongolia/model/whisper-small-v12-mn.pt')\n",
    "#stt_model_large = torch.load('D:/This_season/Tusul/editing_projects/whisper-mongolia/model/whisper-large-v2-mn-13.pt')\n",
    "\n",
    "# TTS\n",
    "from transformers import VitsModel, AutoTokenizer\n",
    "from IPython.display import Audio\n",
    "tts_model = VitsModel.from_pretrained(\"facebook/mms-tts-mon\")\n",
    "tokenizer = AutoTokenizer.from_pretrained(\"facebook/mms-tts-mon\")\n",
    "\n",
    "from io import BytesIO\n",
    "import wave\n",
    "import simpleaudio as sa\n",
    "import time\n",
    "def mms_tts(text):\n",
    "    inputs = tokenizer(text, return_tensors=\"pt\")\n",
    "    with torch.no_grad():\n",
    "        output = tts_model(**inputs).waveform\n",
    "\n",
    "    scaled, nchan = Audio._validate_and_normalize_with_numpy(output, normalize=True)\n",
    "\n",
    "    fp = BytesIO()\n",
    "    waveobj = wave.open(fp,mode='wb')\n",
    "    waveobj.setnchannels(nchan)\n",
    "    waveobj.setframerate(16000)\n",
    "    waveobj.setsampwidth(2)\n",
    "    waveobj.setcomptype('NONE','NONE')\n",
    "    waveobj.writeframes(scaled)\n",
    "    val = fp.getvalue()\n",
    "    waveobj.close()\n",
    "    return val , output.shape[1]\n",
    "\n",
    "def stt(duration=3):\n",
    "        sample_rate = 16000\n",
    "        recorded_audio = sd.rec(int(duration * sample_rate), samplerate=sample_rate, channels=1, blocking=True)\n",
    "        print('Асуултыг боловсруулаж байна.')\n",
    "        text = stt_model_small(recorded_audio[:,0])[\"text\"]\n",
    "        return text"
   ]
  },
  {
   "cell_type": "code",
   "execution_count": 5,
   "metadata": {},
   "outputs": [
    {
     "name": "stdout",
     "output_type": "stream",
     "text": [
      "Асуултаа хэлнэ үү?\n",
      "Асуултыг боловсруулаж байна.\n",
      "сайн байна уу\n",
      "Асуултаа хэлнэ үү?\n",
      "Асуултыг боловсруулаж байна.\n",
      "боловсруулан тэгэхээр виспер модуль маань а энд би сайн байна уу\n",
      "Асуултаа хэлнэ үү?\n",
      "Асуултыг боловсруулаж байна.\n",
      "таван асуулт байна а зүгээр суутган\n",
      "Хариулт сайн байна уу эрхэмээ, танийг сонсож байна. таньд юугаар туслах вэ\n",
      "Асуултаа хэлнэ үү?\n",
      "Асуултыг боловсруулаж байна.\n",
      "отгон баатар гэж хэн бэ\n",
      "Хариулт номин-эрдэнэ нь монгол улсын их сургуульд сүлжээний технологи мэргэжилээр сурдаг. тэр отгонбаатартай хамтран төслийн ажил хичээлийн хүрээнд намайг хөгжүүлэж байгаа.\n",
      "Асуултаа хэлнэ үү?\n",
      "Асуултыг боловсруулаж байна.\n",
      "шинэ файл үүсгээрэй\n",
      "Хариулт new_text_file\n",
      "Асуултаа хэлнэ үү?\n",
      "Асуултыг боловсруулаж байна.\n",
      "та чинь хамаа өгсөн юм байна шүү дээ\n",
      "Хариулт сайн байна уу эрхэмээ, танийг сонсож байна. таньд юугаар туслах вэ\n",
      "Асуултаа хэлнэ үү?\n"
     ]
    },
    {
     "ename": "KeyboardInterrupt",
     "evalue": "",
     "output_type": "error",
     "traceback": [
      "\u001b[1;31m---------------------------------------------------------------------------\u001b[0m",
      "\u001b[1;31mKeyboardInterrupt\u001b[0m                         Traceback (most recent call last)",
      "Cell \u001b[1;32mIn[5], line 57\u001b[0m\n\u001b[0;32m     54\u001b[0m                 \u001b[38;5;28mself\u001b[39m\u001b[38;5;241m.\u001b[39mlabel\u001b[38;5;241m.\u001b[39mconfig(fg\u001b[38;5;241m=\u001b[39m\u001b[38;5;124m\"\u001b[39m\u001b[38;5;124mblack\u001b[39m\u001b[38;5;124m\"\u001b[39m)\n\u001b[0;32m     55\u001b[0m                 \u001b[38;5;28;01mcontinue\u001b[39;00m\n\u001b[1;32m---> 57\u001b[0m Assistant()\n",
      "Cell \u001b[1;32mIn[5], line 19\u001b[0m, in \u001b[0;36mAssistant.__init__\u001b[1;34m(self)\u001b[0m\n\u001b[0;32m     15\u001b[0m \u001b[38;5;28mself\u001b[39m\u001b[38;5;241m.\u001b[39mlabel\u001b[38;5;241m.\u001b[39mpack()\n\u001b[0;32m     17\u001b[0m threading\u001b[38;5;241m.\u001b[39mThread(target\u001b[38;5;241m=\u001b[39m\u001b[38;5;28mself\u001b[39m\u001b[38;5;241m.\u001b[39mrun_assistant)\u001b[38;5;241m.\u001b[39mstart()\n\u001b[1;32m---> 19\u001b[0m \u001b[38;5;28mself\u001b[39m\u001b[38;5;241m.\u001b[39mroot\u001b[38;5;241m.\u001b[39mmainloop()\n",
      "File \u001b[1;32mc:\\Users\\Oggy\\anaconda3\\Lib\\tkinter\\__init__.py:1485\u001b[0m, in \u001b[0;36mMisc.mainloop\u001b[1;34m(self, n)\u001b[0m\n\u001b[0;32m   1483\u001b[0m \u001b[38;5;28;01mdef\u001b[39;00m \u001b[38;5;21mmainloop\u001b[39m(\u001b[38;5;28mself\u001b[39m, n\u001b[38;5;241m=\u001b[39m\u001b[38;5;241m0\u001b[39m):\n\u001b[0;32m   1484\u001b[0m \u001b[38;5;250m    \u001b[39m\u001b[38;5;124;03m\"\"\"Call the mainloop of Tk.\"\"\"\u001b[39;00m\n\u001b[1;32m-> 1485\u001b[0m     \u001b[38;5;28mself\u001b[39m\u001b[38;5;241m.\u001b[39mtk\u001b[38;5;241m.\u001b[39mmainloop(n)\n",
      "\u001b[1;31mKeyboardInterrupt\u001b[0m: "
     ]
    },
    {
     "name": "stdout",
     "output_type": "stream",
     "text": [
      "Асуултыг боловсруулаж байна.\n",
      "та гэдгээ яаж үүсгэсэн бэ гээд тэгэхээр файл гэсэн төрөл дээр би\n",
      "Хариулт new_text_file\n"
     ]
    },
    {
     "name": "stderr",
     "output_type": "stream",
     "text": [
      "Exception in thread Thread-6 (run_assistant):\n",
      "Traceback (most recent call last):\n",
      "  File \"C:\\Users\\Oggy\\AppData\\Local\\Temp\\ipykernel_12044\\2803705264.py\", line 52, in run_assistant\n",
      "  File \"c:\\Users\\Oggy\\anaconda3\\Lib\\tkinter\\__init__.py\", line 1702, in configure\n",
      "    return self._configure('configure', cnf, kw)\n",
      "           ^^^^^^^^^^^^^^^^^^^^^^^^^^^^^^^^^^^^^\n",
      "  File \"c:\\Users\\Oggy\\anaconda3\\Lib\\tkinter\\__init__.py\", line 1692, in _configure\n",
      "    self.tk.call(_flatten((self._w, cmd)) + self._options(cnf))\n",
      "RuntimeError: main thread is not in main loop\n",
      "\n",
      "During handling of the above exception, another exception occurred:\n",
      "\n",
      "Traceback (most recent call last):\n",
      "  File \"c:\\Users\\Oggy\\anaconda3\\Lib\\threading.py\", line 1038, in _bootstrap_inner\n",
      "    self.run()\n",
      "  File \"c:\\Users\\Oggy\\anaconda3\\Lib\\threading.py\", line 975, in run\n",
      "    self._target(*self._args, **self._kwargs)\n",
      "  File \"C:\\Users\\Oggy\\AppData\\Local\\Temp\\ipykernel_12044\\2803705264.py\", line 54, in run_assistant\n",
      "  File \"c:\\Users\\Oggy\\anaconda3\\Lib\\tkinter\\__init__.py\", line 1702, in configure\n",
      "    return self._configure('configure', cnf, kw)\n",
      "           ^^^^^^^^^^^^^^^^^^^^^^^^^^^^^^^^^^^^^\n",
      "  File \"c:\\Users\\Oggy\\anaconda3\\Lib\\tkinter\\__init__.py\", line 1692, in _configure\n",
      "    self.tk.call(_flatten((self._w, cmd)) + self._options(cnf))\n",
      "RuntimeError: main thread is not in main loop\n"
     ]
    }
   ],
   "source": [
    "class Assistant:\n",
    "\n",
    "    def __init__(self):\n",
    "\n",
    "        self.assistant = BasicAssistant(\"mn_intents.json\")\n",
    "        self.data_changed = False\n",
    "        if self.data_changed == True:\n",
    "            self.assistant.fit_model(epochs=50)\n",
    "            self.assistant.save_model()\n",
    "        else:\n",
    "             self.assistant.load_model()\n",
    "\n",
    "        self.root = tk.Tk()\n",
    "        self.label = tk.Label(text=\"😊\", font=(\"Arial\", 120, \"bold\"))\n",
    "        self.label.pack()\n",
    "\n",
    "        threading.Thread(target=self.run_assistant).start()\n",
    "\n",
    "        self.root.mainloop()\n",
    "    \n",
    "    def create_file(self):\n",
    "        with open(\"New_file.txt\", \"w\") as f:\n",
    "            f.write(\"шинэ файлыг амжилттай үүсэглээ.\")\n",
    "\n",
    "    def run_assistant(self):\n",
    "        while True:\n",
    "            try:\n",
    "                #text = input(\"Enter a message: \")\n",
    "                print('Асуултаа хэлнэ үү?')\n",
    "                text = stt(duration=3)\n",
    "                text = text.lower()\n",
    "                print(text)\n",
    "\n",
    "                if \"байна уу\" in text:\n",
    "                    self.label.config(fg=\"red\")\n",
    "\n",
    "                elif text == \"зогс\":\n",
    "                            self.root.destroy()\n",
    "                            sys.exit(0)\n",
    "                elif text is not None and len(text) > 3:\n",
    "                            response = self.assistant.process_input(text)\n",
    "                            print(\"Хариулт \" + f'{response}')\n",
    "                            if response == \"new_text_file\":\n",
    "                                self.create_file()\n",
    "                                audio, siz = mms_tts(text = 'файлыг амжилттай үүсэглээ')\n",
    "                                play_obj = sa.play_buffer(audio, 1, 2, 16000)\n",
    "                                time.sleep(siz/16000)\n",
    "                            if response is not None and len(response) > 3:\n",
    "                                audio, siz = mms_tts(text = response)\n",
    "                                play_obj = sa.play_buffer(audio, 1, 2, 16000)\n",
    "                                time.sleep(siz/16000)\n",
    "                self.label.config(fg=\"black\")\n",
    "            except:\n",
    "                self.label.config(fg=\"black\")\n",
    "                continue\n",
    "\n",
    "Assistant()"
   ]
  }
 ],
 "metadata": {
  "kernelspec": {
   "display_name": "base",
   "language": "python",
   "name": "python3"
  },
  "language_info": {
   "codemirror_mode": {
    "name": "ipython",
    "version": 3
   },
   "file_extension": ".py",
   "mimetype": "text/x-python",
   "name": "python",
   "nbconvert_exporter": "python",
   "pygments_lexer": "ipython3",
   "version": "3.11.4"
  }
 },
 "nbformat": 4,
 "nbformat_minor": 2
}
